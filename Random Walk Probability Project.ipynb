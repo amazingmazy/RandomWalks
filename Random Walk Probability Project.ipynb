{
 "cells": [
  {
   "cell_type": "code",
   "execution_count": null,
   "metadata": {},
   "outputs": [],
   "source": [
    "#import requisite libraries\n",
    "import numpy as np\n",
    "from numpy import random\n",
    "import pandas as pd\n",
    "import matplotlib.pyplot as plt\n",
    "import scipy as sp\n",
    "import random"
   ]
  },
  {
   "cell_type": "code",
   "execution_count": 68,
   "metadata": {},
   "outputs": [],
   "source": [
    "# This is a functions that will return a list of the results of any random walk on the intergers with each entry being the result of a random walk\n",
    "def int_random_walk(prob, n, trials):\n",
    "    superlist = []\n",
    "    for trial in range(trials):\n",
    "        xi = 0\n",
    "        for instances in range(n):\n",
    "            ui = np.random.binomial(1, prob)\n",
    "            if ui == 1:\n",
    "                xi = xi + 1\n",
    "            else:\n",
    "                xi = xi - 1\n",
    "        superlist.append(xi)\n",
    "    return superlist"
   ]
  },
  {
   "cell_type": "code",
   "execution_count": 69,
   "metadata": {},
   "outputs": [
    {
     "data": {
      "text/plain": [
       "[-1, 1, -3, -1, 1, -1, -1, -3, 1, -1, 1, 1, 1, -1, 1, 1, 3, 5, -1, 3]"
      ]
     },
     "execution_count": 69,
     "metadata": {},
     "output_type": "execute_result"
    }
   ],
   "source": [
    "#Test of IntRandomWalk Function\n",
    "int_random_walk(.5, 5, 20)"
   ]
  },
  {
   "cell_type": "code",
   "execution_count": 70,
   "metadata": {},
   "outputs": [
    {
     "data": {
      "text/plain": [
       "[-9, -11, -5, -3, -9, -7, 5, -7, -3, -7]"
      ]
     },
     "execution_count": 70,
     "metadata": {},
     "output_type": "execute_result"
    }
   ],
   "source": [
    "#Test 2 of IntRandomWalk Function\n",
    "int_random_walk(.3, 15, 10)"
   ]
  },
  {
   "cell_type": "code",
   "execution_count": 71,
   "metadata": {},
   "outputs": [
    {
     "data": {
      "text/plain": [
       "[10, 10, 10, 2, 6, 10, 10, 10, 8, 8, 4, 4, 8, 10, 8]"
      ]
     },
     "execution_count": 71,
     "metadata": {},
     "output_type": "execute_result"
    }
   ],
   "source": [
    "#Test 3 of IntRandomWalk Function\n",
    "int_random_walk(.9, 10, 15)"
   ]
  },
  {
   "cell_type": "code",
   "execution_count": 72,
   "metadata": {},
   "outputs": [],
   "source": [
    "#This function will return a dataset of the variance of simulated Random Walks on The Integers with a corresponding value of p\n",
    "def variance_simulator(delta, n, trials):\n",
    "    probi = 0\n",
    "    df = pd.DataFrame({'p':[],'Variance':[]})\n",
    "    dfCount = 0\n",
    "    while probi <= 1:  \n",
    "        variance = np.var(int_random_walk(probi,n,trials))\n",
    "        df.loc[dfCount]= [probi, variance]\n",
    "        probi = probi + delta\n",
    "        dfCount = dfCount + 1\n",
    "    df.columns = ['p','Variance']\n",
    "    return df"
   ]
  },
  {
   "cell_type": "code",
   "execution_count": 73,
   "metadata": {},
   "outputs": [
    {
     "data": {
      "text/html": [
       "<div>\n",
       "<style scoped>\n",
       "    .dataframe tbody tr th:only-of-type {\n",
       "        vertical-align: middle;\n",
       "    }\n",
       "\n",
       "    .dataframe tbody tr th {\n",
       "        vertical-align: top;\n",
       "    }\n",
       "\n",
       "    .dataframe thead th {\n",
       "        text-align: right;\n",
       "    }\n",
       "</style>\n",
       "<table border=\"1\" class=\"dataframe\">\n",
       "  <thead>\n",
       "    <tr style=\"text-align: right;\">\n",
       "      <th></th>\n",
       "      <th>p</th>\n",
       "      <th>Variance</th>\n",
       "    </tr>\n",
       "  </thead>\n",
       "  <tbody>\n",
       "    <tr>\n",
       "      <td>0</td>\n",
       "      <td>0.00</td>\n",
       "      <td>0.00</td>\n",
       "    </tr>\n",
       "    <tr>\n",
       "      <td>1</td>\n",
       "      <td>0.25</td>\n",
       "      <td>8.16</td>\n",
       "    </tr>\n",
       "    <tr>\n",
       "      <td>2</td>\n",
       "      <td>0.50</td>\n",
       "      <td>7.56</td>\n",
       "    </tr>\n",
       "    <tr>\n",
       "      <td>3</td>\n",
       "      <td>0.75</td>\n",
       "      <td>11.56</td>\n",
       "    </tr>\n",
       "    <tr>\n",
       "      <td>4</td>\n",
       "      <td>1.00</td>\n",
       "      <td>0.00</td>\n",
       "    </tr>\n",
       "  </tbody>\n",
       "</table>\n",
       "</div>"
      ],
      "text/plain": [
       "      p  Variance\n",
       "0  0.00      0.00\n",
       "1  0.25      8.16\n",
       "2  0.50      7.56\n",
       "3  0.75     11.56\n",
       "4  1.00      0.00"
      ]
     },
     "execution_count": 73,
     "metadata": {},
     "output_type": "execute_result"
    }
   ],
   "source": [
    "variance_simulator(.25, 10, 10)\n",
    "#This is a test of "
   ]
  },
  {
   "cell_type": "code",
   "execution_count": 74,
   "metadata": {},
   "outputs": [
    {
     "data": {
      "text/html": [
       "<div>\n",
       "<style scoped>\n",
       "    .dataframe tbody tr th:only-of-type {\n",
       "        vertical-align: middle;\n",
       "    }\n",
       "\n",
       "    .dataframe tbody tr th {\n",
       "        vertical-align: top;\n",
       "    }\n",
       "\n",
       "    .dataframe thead th {\n",
       "        text-align: right;\n",
       "    }\n",
       "</style>\n",
       "<table border=\"1\" class=\"dataframe\">\n",
       "  <thead>\n",
       "    <tr style=\"text-align: right;\">\n",
       "      <th></th>\n",
       "      <th>p</th>\n",
       "      <th>Variance</th>\n",
       "    </tr>\n",
       "  </thead>\n",
       "  <tbody>\n",
       "    <tr>\n",
       "      <td>0</td>\n",
       "      <td>0.00</td>\n",
       "      <td>0.0000</td>\n",
       "    </tr>\n",
       "    <tr>\n",
       "      <td>1</td>\n",
       "      <td>0.25</td>\n",
       "      <td>5.9456</td>\n",
       "    </tr>\n",
       "    <tr>\n",
       "      <td>2</td>\n",
       "      <td>0.50</td>\n",
       "      <td>10.8624</td>\n",
       "    </tr>\n",
       "    <tr>\n",
       "      <td>3</td>\n",
       "      <td>0.75</td>\n",
       "      <td>5.6000</td>\n",
       "    </tr>\n",
       "    <tr>\n",
       "      <td>4</td>\n",
       "      <td>1.00</td>\n",
       "      <td>0.0000</td>\n",
       "    </tr>\n",
       "  </tbody>\n",
       "</table>\n",
       "</div>"
      ],
      "text/plain": [
       "      p  Variance\n",
       "0  0.00    0.0000\n",
       "1  0.25    5.9456\n",
       "2  0.50   10.8624\n",
       "3  0.75    5.6000\n",
       "4  1.00    0.0000"
      ]
     },
     "execution_count": 74,
     "metadata": {},
     "output_type": "execute_result"
    }
   ],
   "source": [
    "variance_simulator(.25, 10, 50)"
   ]
  },
  {
   "cell_type": "code",
   "execution_count": 75,
   "metadata": {},
   "outputs": [],
   "source": [
    "large_Var_Sim = variance_simulator(.01, 10, 200)"
   ]
  },
  {
   "cell_type": "code",
   "execution_count": 76,
   "metadata": {},
   "outputs": [
    {
     "data": {
      "image/png": "[encoded data removed]",
      "text/plain": [
       "<Figure size 432x288 with 1 Axes>"
      ]
     },
     "metadata": {
      "needs_background": "light"
     },
     "output_type": "display_data"
    }
   ],
   "source": [
    "x = large_Var_Sim['p']\n",
    "y = large_Var_Sim['Variance']\n",
    "plt.scatter(x, y)\n",
    "plt.scatter(large_Var_Sim['p'],large_Var_Sim['Variance'])\n",
    "plt.title(f\"Variance of Simulations of Random Walks of 10 moves and 200 trials\")\n",
    "plt.xlabel('p')\n",
    "plt.ylabel('Variance')\n",
    "plt.show()"
   ]
  },
  {
   "cell_type": "code",
   "execution_count": 77,
   "metadata": {},
   "outputs": [],
   "source": [
    "#create a relative frequency graph of a high trial simulation at various values of n and p\n",
    "def randWalkHist(n,p):\n",
    "    hist_data = int_random_walk(p, n, 100000)\n",
    "    bins = 2*n + 1\n",
    "    plt.hist(hist_data, bins = bins, density=True)\n",
    "    return plt.show()\n",
    "    "
   ]
  },
  {
   "cell_type": "code",
   "execution_count": 78,
   "metadata": {},
   "outputs": [
    {
     "data": {
      "image/png": "[encoded data removed]",
      "text/plain": [
       "<Figure size 432x288 with 1 Axes>"
      ]
     },
     "metadata": {
      "needs_background": "light"
     },
     "output_type": "display_data"
    }
   ],
   "source": [
    "#Histogram test 1 p=.5, n=10: \n",
    "randWalkHist(10,.5)"
   ]
  },
  {
   "cell_type": "code",
   "execution_count": 79,
   "metadata": {},
   "outputs": [
    {
     "data": {
      "image/png": "[encoded data removed]",
      "text/plain": [
       "<Figure size 432x288 with 1 Axes>"
      ]
     },
     "metadata": {
      "needs_background": "light"
     },
     "output_type": "display_data"
    }
   ],
   "source": [
    "#Histogram test 2 p=.1, n=10: \n",
    "randWalkHist(10,.1)"
   ]
  },
  {
   "cell_type": "code",
   "execution_count": 80,
   "metadata": {},
   "outputs": [
    {
     "data": {
      "image/png": "[encoded data removed]",
      "text/plain": [
       "<Figure size 432x288 with 1 Axes>"
      ]
     },
     "metadata": {
      "needs_background": "light"
     },
     "output_type": "display_data"
    }
   ],
   "source": [
    "#Histogram test 3 p=.7, n=10: \n",
    "randWalkHist(10,.7)"
   ]
  },
  {
   "cell_type": "markdown",
   "metadata": {},
   "source": [
    "### Now Let Us Move Onto a simulation in Z^n"
   ]
  },
  {
   "cell_type": "markdown",
   "metadata": {},
   "source": [
    "#### This Function will return a list of a random walks in Z^n with a uniform p (ie probabiliity of going forward)\n"
   ]
  },
  {
   "cell_type": "code",
   "execution_count": 38,
   "metadata": {},
   "outputs": [],
   "source": [
    "def dimRandWalk(dim, n, prob, trials): \n",
    "    superlist = []\n",
    "    for instances in range(trials):\n",
    "        sublist = []\n",
    "        for instances in range(dim): \n",
    "            xi = 0\n",
    "            for instances in range(n):\n",
    "                ui = np.random.binomial(1, prob)\n",
    "                if ui == 1:\n",
    "                    xi = xi + 1\n",
    "                else:\n",
    "                    xi = xi - 1\n",
    "            sublist.append(xi)\n",
    "        superlist.append(sublist)\n",
    "    return superlist\n",
    "    "
   ]
  },
  {
   "cell_type": "code",
   "execution_count": 39,
   "metadata": {},
   "outputs": [
    {
     "data": {
      "text/plain": [
       "[[4, 4, 6, 6, 4],\n",
       " [6, 6, 4, 4, 6],\n",
       " [4, 6, 2, 6, 6],\n",
       " [6, 4, 6, 6, 4],\n",
       " [6, 6, 4, 6, 6],\n",
       " [6, 6, 2, 4, 6],\n",
       " [6, 6, 6, 2, 6]]"
      ]
     },
     "execution_count": 39,
     "metadata": {},
     "output_type": "execute_result"
    }
   ],
   "source": [
    "#test of this new multidimenstional \n",
    "dimRandWalk(5,6,.9,7)"
   ]
  },
  {
   "cell_type": "markdown",
   "metadata": {},
   "source": [
    "#### Having this is nice, but we would rather be able to simulate the more interesting case in which our probability of going forward is variable across all the dimensions"
   ]
  },
  {
   "cell_type": "markdown",
   "metadata": {},
   "source": [
    "#### This Function will return a list of a random walks in Z^n with a variable p (ie probabiliity of going forward)\n"
   ]
  },
  {
   "cell_type": "code",
   "execution_count": 54,
   "metadata": {},
   "outputs": [],
   "source": [
    "# prob_list is a list of prob values in the interval (0,1) corresponding to each dimension of the random walk)\n",
    "def varDimRandWalk(dim, n, prob_list, trials): \n",
    "    if len(prob_list) != dim:\n",
    "        errorStr = 'This is an invalid input: the length of your list of probabilities should equal the number of dimensions in the random walk'\n",
    "        return errorStr\n",
    "    else:\n",
    "        superlist = []\n",
    "        for instances in range(trials):\n",
    "            sublist = []\n",
    "            dim_index = 0\n",
    "            for instances in range(dim): \n",
    "                xi = 0\n",
    "                for instances in range(n):\n",
    "                    ui = np.random.binomial(1, prob_list[dim_index])\n",
    "                    if ui == 1:\n",
    "                        xi = xi + 1\n",
    "                    else:\n",
    "                        xi = xi - 1\n",
    "                sublist.append(xi)\n",
    "                dim_index = dim_index + 1\n",
    "            superlist.append(sublist)\n",
    "        return superlist\n",
    "            \n",
    "            \n",
    "    "
   ]
  },
  {
   "cell_type": "code",
   "execution_count": 55,
   "metadata": {},
   "outputs": [
    {
     "data": {
      "text/plain": [
       "[[0, 6, -6],\n",
       " [2, 6, -6],\n",
       " [0, 6, -6],\n",
       " [2, 6, -6],\n",
       " [-6, 6, -6],\n",
       " [0, 6, -6],\n",
       " [-2, 6, -6],\n",
       " [4, 6, -6],\n",
       " [-2, 6, -6],\n",
       " [-2, 6, -6],\n",
       " [0, 6, -6],\n",
       " [-2, 6, -6]]"
      ]
     },
     "execution_count": 55,
     "metadata": {},
     "output_type": "execute_result"
    }
   ],
   "source": [
    "varDimRandWalk(3, 6, [.5,.99,.01], 12)"
   ]
  },
  {
   "cell_type": "markdown",
   "metadata": {},
   "source": [
    "#### Now let us discuss the notion of 'Magnitude' (ie the closest/pythagorean path from where the random walk ended to the origin"
   ]
  },
  {
   "cell_type": "code",
   "execution_count": 60,
   "metadata": {},
   "outputs": [],
   "source": [
    "#this function will give the Magnitude of each random walk in a set of random walks\n",
    "def magSetWalks(set_of_walks):\n",
    "    maglist = []\n",
    "    for instances in range(len(set_of_walks)):\n",
    "        magVal = 0\n",
    "        for i in range(len(set_of_walks[0])):\n",
    "            magVal = magVal + abs(set_of_walks[instances][i])**2\n",
    "        magVal = magVal**0.5\n",
    "        maglist.append(magVal)\n",
    "    return maglist\n",
    "        \n",
    "        "
   ]
  },
  {
   "cell_type": "markdown",
   "metadata": {},
   "source": [
    "Let us test our new function"
   ]
  },
  {
   "cell_type": "code",
   "execution_count": 61,
   "metadata": {},
   "outputs": [
    {
     "data": {
      "text/plain": [
       "[8.717797887081348,\n",
       " 8.48528137423857,\n",
       " 8.717797887081348,\n",
       " 8.717797887081348,\n",
       " 8.48528137423857,\n",
       " 8.48528137423857,\n",
       " 8.48528137423857,\n",
       " 8.48528137423857,\n",
       " 8.48528137423857,\n",
       " 8.48528137423857,\n",
       " 8.717797887081348,\n",
       " 8.48528137423857]"
      ]
     },
     "execution_count": 61,
     "metadata": {},
     "output_type": "execute_result"
    }
   ],
   "source": [
    "#create a set of random walks and input it into our new magnitute function\n",
    "walkSet = varDimRandWalk(3, 6, [.5,.99,.01], 12)\n",
    "magSetWalks(walkSet)"
   ]
  },
  {
   "cell_type": "code",
   "execution_count": 62,
   "metadata": {},
   "outputs": [
    {
     "data": {
      "text/plain": [
       "[[2, 6, -6],\n",
       " [0, 6, -6],\n",
       " [2, 6, -6],\n",
       " [2, 6, -6],\n",
       " [0, 6, -6],\n",
       " [0, 6, -6],\n",
       " [0, 6, -6],\n",
       " [0, 6, -6],\n",
       " [0, 6, -6],\n",
       " [0, 6, -6],\n",
       " [2, 6, -6],\n",
       " [0, 6, -6]]"
      ]
     },
     "execution_count": 62,
     "metadata": {},
     "output_type": "execute_result"
    }
   ],
   "source": [
    "# look at our set of walks\n",
    "walkSet"
   ]
  },
  {
   "cell_type": "code",
   "execution_count": 66,
   "metadata": {},
   "outputs": [
    {
     "name": "stdout",
     "output_type": "stream",
     "text": [
      "8.48528137423857\n",
      "8.717797887081348\n"
     ]
    }
   ],
   "source": [
    "#verify that the calculation is correct\n",
    "print((0**2 + 6**2 + 6**2)**.5)\n",
    "print((2**2 + 6**2 + 6**2)**.5)"
   ]
  },
  {
   "cell_type": "markdown",
   "metadata": {},
   "source": [
    "#### From our work on Random Walks on the Integers we found we can find the variance and expectation via computationally/empirically using a high trial test rather than a deductive method traditionally used in mathematics. Let us utilize this method with respect to our notion of magnitude"
   ]
  },
  {
   "cell_type": "code",
   "execution_count": null,
   "metadata": {},
   "outputs": [],
   "source": [
    "# now let us adapt our variance simukator to simulate a multidimensional random walk\n",
    "def dim_variance_simulator(dim, delta, n, trials):\n",
    "    df = pd.DataFrame()\n",
    "    #CREATE COLUMNS FOR ALL DIMS\n",
    "    dim_num = 1\n",
    "    for dims in range(dim):\n",
    "        df[f'{dim_num}'] = []\n",
    "        dim_num = dim_num + 1\n",
    "    df['Variance'] = []\n",
    "    # find number the set of values of p that will be tested for\n",
    "    probset = []\n",
    "    probi = 0\n",
    "    while probi <= 1:\n",
    "        probset.append(probi)\n",
    "        probi = probi + delta\n",
    "    ### Now Input These In Combination\n",
    "    max_prob = max(probset)\n",
    "    p_comb_list = []\n",
    "    pot_combs = len(probset)**dim\n",
    "    probset.append(probset)\n",
    "    probset.append(probset)\n",
    "    ### Create a base list of combination of values\n",
    "    while len(p_comb_list)/4 < pot_combs:\n",
    "        base = []\n",
    "        for dims in range(dim):\n",
    "            rand_prob = random.choice(probset)\n",
    "            base.append(rand_prob)\n",
    "        list(set(p_comb_list))\n",
    "    return p_comb_list\n",
    "    "
   ]
  },
  {
   "cell_type": "code",
   "execution_count": null,
   "metadata": {},
   "outputs": [],
   "source": [
    "dim_variance_simulator(2, .2, 5, 100)\n"
   ]
  },
  {
   "cell_type": "code",
   "execution_count": null,
   "metadata": {},
   "outputs": [],
   "source": []
  }
 ],
 "metadata": {
  "kernelspec": {
   "display_name": "Python 3",
   "language": "python",
   "name": "python3"
  }
 },
 "nbformat": 4,
 "nbformat_minor": 2
}
